{
 "cells": [
  {
   "cell_type": "code",
   "execution_count": 1,
   "metadata": {},
   "outputs": [],
   "source": [
    "import numpy as np\n",
    "\n",
    "A = np.array([[1, 0, -1, 2], [2, 1, -1, 5], [3, 3, 0, 9]])\n",
    "b = np.array([1, 4, 9])"
   ]
  },
  {
   "cell_type": "code",
   "execution_count": 2,
   "metadata": {},
   "outputs": [
    {
     "name": "stdout",
     "output_type": "stream",
     "text": [
      "Solution for Ax = 0\n",
      "[-0.24602768 -0.83691914  0.47593687  0.36098227]\n",
      "\n",
      "\n",
      "Confirming that Ax = 0\n",
      "[0. 0. 0.]\n"
     ]
    }
   ],
   "source": [
    "# Part a\n",
    "\n",
    "#Since x_3 and x_4 are free variables, we will assign them random numbers with numpy.random\n",
    "x_3 = np.random.random()\n",
    "x_4 = np.random.random()\n",
    "\n",
    "x_n = np.array([x_3 - 2*x_4, -x_3 - x_4, x_3, x_4])\n",
    "print('Solution for Ax = 0')\n",
    "print(x_n)\n",
    "print('\\n')\n",
    "result = np.around(A.dot(x_n),6)\n",
    "print('Confirming that Ax = 0')\n",
    "print(result)"
   ]
  },
  {
   "cell_type": "code",
   "execution_count": 3,
   "metadata": {},
   "outputs": [
    {
     "name": "stdout",
     "output_type": "stream",
     "text": [
      "Solution for Ax = b\n",
      "[1 2 0 0]\n",
      "\n",
      "\n",
      "Confirming that Ax = b\n",
      "[1 4 9]\n"
     ]
    }
   ],
   "source": [
    "# Part b\n",
    "\n",
    "#Since x_3 and x_4 are free variables, we will write solution set in terms of them. And since we are looking for\n",
    "# a particular solution, assigning x_3 and x_4 as 0 will make x_p = [1 2 0 0]^T. Then check whether A.x_p = b where\n",
    "# b is [1 4 9]^T\n",
    "x_3 = 0\n",
    "x_4 = 0\n",
    "\n",
    "print('Solution for Ax = b')\n",
    "x_p = np.array([ 1 + x_3 - 2*x_4, 2 -x_3 - x_4, x_3, x_4])\n",
    "print(x_p)\n",
    "print('\\n')\n",
    "print('Confirming that Ax = b')\n",
    "result = A.dot(x_p)\n",
    "print(result)"
   ]
  },
  {
   "cell_type": "code",
   "execution_count": 4,
   "metadata": {},
   "outputs": [
    {
     "name": "stdout",
     "output_type": "stream",
     "text": [
      "Confirming that Ax = b\n",
      "[1. 4. 9.]\n"
     ]
    }
   ],
   "source": [
    "# Part c\n",
    "\n",
    "x_3 = np.random.random()\n",
    "x_4 = np.random.random()\n",
    "\n",
    "x_c = np.array([ 1 + x_3 - 2*x_4, 2 -x_3 - x_4, x_3, x_4])\n",
    "\n",
    "print('Confirming that Ax = b')\n",
    "result = A.dot(x_c)\n",
    "print(result)"
   ]
  },
  {
   "cell_type": "code",
   "execution_count": 5,
   "metadata": {},
   "outputs": [
    {
     "name": "stdout",
     "output_type": "stream",
     "text": [
      "U is:\n",
      "[[-0.1898465   0.70019575 -0.6882472 ]\n",
      " [-0.47607011  0.54742401  0.6882472 ]\n",
      " [-0.85867081 -0.45831524 -0.22941573]]\n",
      "V is:\n",
      "[[-0.32168832 -0.26407196  0.05761637 -0.90744861]\n",
      " [ 0.27016145 -0.53217213 -0.80233358  0.00815077]\n",
      " [ 0.89002517  0.22009547  0.14994474 -0.37004021]\n",
      " [ 0.17715703 -0.77370331  0.57485455  0.19884876]]\n",
      "sigma is:\n",
      "[[11.55776837  0.          0.          0.        ]\n",
      " [ 0.          1.55498883  0.          0.        ]\n",
      " [ 0.          0.          0.          0.        ]]\n"
     ]
    }
   ],
   "source": [
    "# Part d \n",
    "\n",
    "u, s, v = np.linalg.svd(A)\n",
    "\n",
    "# Make sigma in the correct form which is 3x4 matrix\n",
    "sigma = np.zeros((3,4))\n",
    "for i in range(len(sigma[:,0])):\n",
    "    for j in range(len(sigma[0])):\n",
    "        if( i == j ):\n",
    "            # Instead of zero, it assigns third sigma value as 2*10^-16, which makes problem when taking reciprocal.\n",
    "            # To resolve that issue, i have just assigned 0 instead 2*10^-16\n",
    "            if(s[i] > 10 **-15):\n",
    "                sigma[i,j] = s[i]\n",
    "            else:\n",
    "                sigma[i,j] = 0\n",
    "                \n",
    "            \n",
    "# To find sigma_plus, take reciprocals of the non-zero values.\n",
    "sigma_plus = np.zeros((3,4))\n",
    "for i in range(len(sigma[:,0])):\n",
    "    for j in range(len(sigma[0])):\n",
    "         if( i == j and sigma[i,j] != 0):\n",
    "            sigma_plus[i,j] = 1/sigma[i,j]\n",
    "\n",
    "print('U is:')\n",
    "print(u)\n",
    "print('V is:')\n",
    "print(v)\n",
    "print('sigma is:')\n",
    "print(sigma)"
   ]
  },
  {
   "cell_type": "code",
   "execution_count": 6,
   "metadata": {},
   "outputs": [
    {
     "name": "stdout",
     "output_type": "stream",
     "text": [
      "Pseudo inverse of A by SVD decomposition :\n",
      "[[ 0.12693498  0.10835913 -0.05572755]\n",
      " [-0.23529412 -0.17647059  0.17647059]\n",
      " [-0.3622291  -0.28482972  0.23219814]\n",
      " [ 0.01857585  0.04024768  0.06501548]]\n",
      "\n",
      "\n",
      "To see how accurate our pseudo inverse of A, is we check A.A_pseudo.A = A\n",
      "[[ 1.00000000e+00 -1.66533454e-16 -1.00000000e+00  2.00000000e+00]\n",
      " [ 2.00000000e+00  1.00000000e+00 -1.00000000e+00  5.00000000e+00]\n",
      " [ 3.00000000e+00  3.00000000e+00  1.66533454e-16  9.00000000e+00]]\n",
      "\n",
      "\n",
      "Pseudo inverse of A with numpy.linalg.pinv(A)\n",
      "[[ 0.12693498  0.10835913 -0.05572755]\n",
      " [-0.23529412 -0.17647059  0.17647059]\n",
      " [-0.3622291  -0.28482972  0.23219814]\n",
      " [ 0.01857585  0.04024768  0.06501548]]\n"
     ]
    }
   ],
   "source": [
    "A_pseudo = (v.T).dot(sigma_plus.T).dot(u.T)\n",
    "print('Pseudo inverse of A by SVD decomposition :')\n",
    "print(A_pseudo)\n",
    "print('\\n')\n",
    "print('To see how accurate our pseudo inverse of A, is we check A.A_pseudo.A = A')\n",
    "print(A.dot(A_pseudo).dot(A))\n",
    "\n",
    "# Finally, find pseudo inverse of A with numpy.linalg.pinv(A)\n",
    "A_pseudo_2 = np.linalg.pinv(A)\n",
    "print('\\n')\n",
    "print('Pseudo inverse of A with numpy.linalg.pinv(A)')\n",
    "print(A_pseudo_2)"
   ]
  },
  {
   "cell_type": "code",
   "execution_count": 7,
   "metadata": {},
   "outputs": [
    {
     "name": "stdout",
     "output_type": "stream",
     "text": [
      "Sparsest solution example for x is\n",
      "[1 2 0 0]\n",
      "Sparsest solution example for x is\n",
      "[0.  1.5 0.  0.5]\n",
      "Sparsest solution example for x is\n",
      "[0 0 1 1]\n"
     ]
    }
   ],
   "source": [
    "# Part e\n",
    "\n",
    "# 1. Set free variables to zero\n",
    "x_3 = 0\n",
    "x_4 = 0\n",
    "x_sparsest = np.array([ 1 + x_3 - 2*x_4, 2 -x_3 - x_4, x_3, x_4])\n",
    "\n",
    "print('Sparsest solution example for x is')\n",
    "print(x_sparsest)\n",
    "\n",
    "# 2. Set one of the free variables to zero. And set other free variable such that one of the pivots become 0.\n",
    "x_3 = 0\n",
    "x_4 = 1/2\n",
    "x_sparsest = np.array([ 1 + x_3 - 2*x_4, 2 -x_3 - x_4, x_3, x_4])\n",
    "\n",
    "print('Sparsest solution example for x is')\n",
    "print(x_sparsest)\n",
    "\n",
    "# 3.Set free variables such that both pivots are zero.\n",
    "x_3 = 1\n",
    "x_4 = 1\n",
    "x_sparsest = np.array([ 1 + x_3 - 2*x_4, 2 -x_3 - x_4, x_3, x_4])\n",
    "\n",
    "print('Sparsest solution example for x is')\n",
    "print(x_sparsest)"
   ]
  },
  {
   "cell_type": "code",
   "execution_count": 8,
   "metadata": {},
   "outputs": [
    {
     "name": "stdout",
     "output_type": "stream",
     "text": [
      "Least norm solution is:\n",
      "[0.05882353 0.64705882 0.58823529 0.76470588]\n"
     ]
    }
   ],
   "source": [
    "# Part f\n",
    "\n",
    "L2 = A_pseudo.dot(b)\n",
    "print('Least norm solution is:')\n",
    "print(L2)"
   ]
  }
 ],
 "metadata": {
  "kernelspec": {
   "display_name": "Python 3",
   "language": "python",
   "name": "python3"
  },
  "language_info": {
   "codemirror_mode": {
    "name": "ipython",
    "version": 3
   },
   "file_extension": ".py",
   "mimetype": "text/x-python",
   "name": "python",
   "nbconvert_exporter": "python",
   "pygments_lexer": "ipython3",
   "version": "3.7.4"
  }
 },
 "nbformat": 4,
 "nbformat_minor": 2
}
