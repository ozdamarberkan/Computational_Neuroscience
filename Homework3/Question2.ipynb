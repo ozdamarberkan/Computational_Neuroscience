{
 "cells": [
  {
   "cell_type": "code",
   "execution_count": 1,
   "metadata": {},
   "outputs": [],
   "source": [
    "import numpy as np\n",
    "import scipy.io\n",
    "import matplotlib.pyplot as plt\n",
    "import hdf5storage\n",
    "import h5py\n",
    "from scipy.stats import norm "
   ]
  },
  {
   "cell_type": "code",
   "execution_count": 2,
   "metadata": {},
   "outputs": [
    {
     "name": "stdout",
     "output_type": "stream",
     "text": [
      "Shape of pop1 is: \n",
      "(7, 1)\n",
      "Shape of pop2 is: \n",
      "(5, 1)\n"
     ]
    }
   ],
   "source": [
    "with h5py.File('hw3_data3.mat', 'r') as file:\n",
    "    pop1 = list(file['pop1'])\n",
    "with h5py.File('hw3_data3.mat', 'r') as file:\n",
    "    pop2 = list(file['pop2'])    \n",
    "\n",
    "pop1 = np.array(pop1)\n",
    "pop2 = np.array(pop2)\n",
    "pop1.flatten()\n",
    "pop2.flatten()\n",
    "\n",
    "print(\"Shape of pop1 is: \")\n",
    "print(np.shape(pop1))\n",
    "print(\"Shape of pop2 is: \")\n",
    "print(np.shape(pop2))"
   ]
  },
  {
   "cell_type": "code",
   "execution_count": 3,
   "metadata": {},
   "outputs": [],
   "source": [
    "# Part A\n",
    "\n",
    "def bootstrap(data, number_iterations):\n",
    "    np.random.seed(7)\n",
    "    size = np.shape(data)[0]\n",
    "    data_bootstrap = np.zeros(np.shape(data)[0])\n",
    "    result_bootstrap = []\n",
    "    \n",
    "    for i in range(number_iterations):\n",
    "        for j in range(size):\n",
    "            data_bootstrap = np.array(data_bootstrap)\n",
    "            index = np.random.randint(0, size, size=1)\n",
    "            data_bootstrap[j] = data[index]\n",
    "        result_bootstrap.append(data_bootstrap)\n",
    "        data_bootstrap = np.zeros(np.shape(data)[0])\n",
    "    result_bootstrap = np.array(result_bootstrap)   \n",
    "    return result_bootstrap"
   ]
  },
  {
   "cell_type": "code",
   "execution_count": 4,
   "metadata": {},
   "outputs": [],
   "source": [
    "def difference_of_means(pop1, pop2, number_iterations):\n",
    "    pops = np.concatenate((pop1, pop2))\n",
    "    pops_bootstrap = bootstrap(pops, number_iterations)\n",
    "    pop1_bootstrap = []\n",
    "    pop2_bootstrap = []\n",
    "    for i in range(np.shape(pops_bootstrap)[1]):\n",
    "        if (i < np.shape(pop1)[0]):\n",
    "            pop1_bootstrap.append(pops_bootstrap[:,i])\n",
    "        else:\n",
    "            pop2_bootstrap.append(pops_bootstrap[:,i])\n",
    "    pop1_bootstrap = np.array(pop1_bootstrap)\n",
    "    pop2_bootstrap = np.array(pop2_bootstrap)\n",
    "    mean1 = np.mean(pop1_bootstrap, axis=0)\n",
    "    mean2 = np.mean(pop2_bootstrap, axis=0)\n",
    "    diff_of_means = mean1 - mean2\n",
    "    sigma = np.std(diff_of_means)\n",
    "    mu = np.mean(diff_of_means)\n",
    "    return diff_of_means, sigma, mu"
   ]
  },
  {
   "cell_type": "code",
   "execution_count": 5,
   "metadata": {},
   "outputs": [],
   "source": [
    "diff_of_means, sigma_pops, mu_pops = difference_of_means(pop1, pop2, 10000)"
   ]
  },
  {
   "cell_type": "code",
   "execution_count": 6,
   "metadata": {},
   "outputs": [
    {
     "data": {
      "image/png": "[encoded data removed]",
      "text/plain": [
       "<Figure size 576x576 with 1 Axes>"
      ]
     },
     "metadata": {
      "needs_background": "light"
     },
     "output_type": "display_data"
    }
   ],
   "source": [
    "fig_num = 0\n",
    "plt.figure(fig_num, figsize=(8,8))\n",
    "plt.xlabel('Difference of means (x)')\n",
    "plt.ylabel('P(x)')\n",
    "plt.title('Difference of pop1 and pop2 means')\n",
    "plt.hist(diff_of_means, bins=60, density=True)\n",
    "plt.show(block=False)"
   ]
  },
  {
   "cell_type": "code",
   "execution_count": 7,
   "metadata": {},
   "outputs": [],
   "source": [
    "def z_and_p_values(line, sigma, mu):\n",
    "    z = (line - mu) / sigma\n",
    "    p = 2 * (1 - norm.cdf(np.abs(z)))\n",
    "    return z,p\n",
    "\n"
   ]
  },
  {
   "cell_type": "code",
   "execution_count": 8,
   "metadata": {},
   "outputs": [
    {
     "name": "stdout",
     "output_type": "stream",
     "text": [
      "z-value is : \n",
      "2.5328129326156494\n",
      "\n",
      "\n",
      "Two side p-value is : \n",
      "0.0113151320630549\n"
     ]
    }
   ],
   "source": [
    "pops_line = np.mean(pop1) - np.mean(pop2)\n",
    "z,p = z_and_p_values(pops_line, sigma_pops, mu_pops)\n",
    "print(\"z-value is : \")\n",
    "print(z)\n",
    "print(\"\\n\")\n",
    "print(\"Two side p-value is : \")\n",
    "print(p)"
   ]
  },
  {
   "cell_type": "code",
   "execution_count": 9,
   "metadata": {},
   "outputs": [
    {
     "name": "stdout",
     "output_type": "stream",
     "text": [
      "Shape of vox1 is: \n",
      "(50, 1)\n",
      "Shape of vox2 is: \n",
      "(50, 1)\n"
     ]
    }
   ],
   "source": [
    "# Part B\n",
    "\n",
    "with h5py.File('hw3_data3.mat', 'r') as file:\n",
    "    vox1 = list(file['vox1'])\n",
    "with h5py.File('hw3_data3.mat', 'r') as file:\n",
    "    vox2 = list(file['vox2'])    \n",
    "\n",
    "vox1 = np.array(vox1)\n",
    "vox2 = np.array(vox2)\n",
    "\n",
    "print(\"Shape of vox1 is: \")\n",
    "print(np.shape(vox1))\n",
    "print(\"Shape of vox2 is: \")\n",
    "print(np.shape(vox2))"
   ]
  },
  {
   "cell_type": "code",
   "execution_count": 10,
   "metadata": {},
   "outputs": [],
   "source": [
    "def correlation(vox1, vox2, number_iterations, PartC = False):\n",
    "    size = np.shape(vox1)[0]\n",
    "    vox1_bootstrap = bootstrap(vox1, number_iterations)\n",
    "    vox2_bootstrap = bootstrap(vox2, number_iterations)\n",
    "    if (PartC == True):\n",
    "        np.random.seed(15) \n",
    "        np.random.shuffle(vox2_bootstrap) \n",
    "    \n",
    "    result_bootstrap = np.zeros(number_iterations)\n",
    "    \n",
    "    for i in range(number_iterations):\n",
    "        result_bootstrap[i] = np.corrcoef(vox1_bootstrap[i], vox2_bootstrap[i])[0, 1]\n",
    "    result_bootstrap = np.array(result_bootstrap)\n",
    "    return result_bootstrap"
   ]
  },
  {
   "cell_type": "code",
   "execution_count": 11,
   "metadata": {},
   "outputs": [],
   "source": [
    "cor_bootstrap = correlation(vox1, vox2, 10000)"
   ]
  },
  {
   "cell_type": "code",
   "execution_count": 12,
   "metadata": {},
   "outputs": [
    {
     "name": "stdout",
     "output_type": "stream",
     "text": [
      "Mean if correlation is: 0.5575702100845678\n",
      "\n",
      "\n",
      "95 Percent Confidence Interval : (0.3206, 0.7576)\n"
     ]
    }
   ],
   "source": [
    "sorted_cor_bootstrap = np.sort(cor_bootstrap)\n",
    "corr_mean = np.mean(sorted_cor_bootstrap)\n",
    "lowerPercentile = np.percentile(sorted_cor_bootstrap, 5 / 2)\n",
    "upperPercentile = np.percentile(sorted_cor_bootstrap, 95 + (5 / 2))\n",
    "print(\"Mean if correlation is: \" + str(corr_mean))\n",
    "print(\"\\n\")\n",
    "print('95 Percent Confidence Interval : (%1.4f, %1.4f)' % (lowerPercentile,upperPercentile))\n"
   ]
  },
  {
   "cell_type": "code",
   "execution_count": 13,
   "metadata": {},
   "outputs": [],
   "source": [
    "# Part C\n",
    "cor_bootstrap_c = correlation(vox1, vox2, 10000, True)"
   ]
  },
  {
   "cell_type": "code",
   "execution_count": 14,
   "metadata": {},
   "outputs": [
    {
     "data": {
      "image/png": "[encoded data removed]",
      "text/plain": [
       "<Figure size 576x576 with 1 Axes>"
      ]
     },
     "metadata": {
      "needs_background": "light"
     },
     "output_type": "display_data"
    }
   ],
   "source": [
    "fig_num += 1\n",
    "plt.figure(fig_num, figsize=(8,8))\n",
    "plt.yticks([])\n",
    "plt.xlabel('Correlation (y)')\n",
    "plt.ylabel('P(y)')\n",
    "plt.title('Correlation between vox1 and vox2')\n",
    "plt.hist(cor_bootstrap_c, bins=60, density=True)\n",
    "plt.show(block=False)\n",
    "\n"
   ]
  },
  {
   "cell_type": "code",
   "execution_count": 15,
   "metadata": {},
   "outputs": [
    {
     "name": "stdout",
     "output_type": "stream",
     "text": [
      "z-value is : \n",
      "3.971119824778546\n",
      "\n",
      "\n",
      "p-value is : \n",
      "3.576779294101051e-05\n"
     ]
    }
   ],
   "source": [
    "vox1 = np.array(vox1)\n",
    "vox2 = np.array(vox2)\n",
    "vox1 = vox1.flatten()\n",
    "vox2 = vox2.flatten()\n",
    "\n",
    "c_line = np.corrcoef(vox1, vox2)[0,1]\n",
    "sigma_c = np.std(cor_bootstrap_c )\n",
    "mu_c = np.mean(cor_bootstrap_c )\n",
    "\n",
    "z = (c_line - mu_c) / sigma_c\n",
    "p = 1 - norm.cdf(z)\n",
    "print(\"z-value is : \")\n",
    "print(z)\n",
    "print(\"\\n\")\n",
    "print(\"p-value is : \")\n",
    "print(p)"
   ]
  },
  {
   "cell_type": "code",
   "execution_count": 16,
   "metadata": {},
   "outputs": [
    {
     "name": "stdout",
     "output_type": "stream",
     "text": [
      "Shape of building is: \n",
      "(20, 1)\n",
      "Shape of face is: \n",
      "(20, 1)\n"
     ]
    }
   ],
   "source": [
    "# Part D\n",
    "\n",
    "with h5py.File('hw3_data3.mat', 'r') as file:\n",
    "    building = list(file['building'])\n",
    "with h5py.File('hw3_data3.mat', 'r') as file:\n",
    "    face = list(file['face'])    \n",
    "\n",
    "building = np.array(building)\n",
    "face = np.array(face)\n",
    "\n",
    "print(\"Shape of building is: \")\n",
    "print(np.shape(building))\n",
    "print(\"Shape of face is: \")\n",
    "print(np.shape(face))"
   ]
  },
  {
   "cell_type": "code",
   "execution_count": 17,
   "metadata": {},
   "outputs": [],
   "source": [
    "difference_in_means = []\n",
    "size = np.shape(face)[0]\n",
    "sample = []\n",
    "for i in range(10000):\n",
    "    for j in range(size):\n",
    "        choices = []\n",
    "        index = np.random.randint(0, size, size=1)\n",
    "        choices.append(building[index] - face[index])\n",
    "        choices.append(face[index] - building[index])\n",
    "        for k in range(2):\n",
    "            choices.append(0)\n",
    "        chosenOne = int(np.random.randint(0, len(choices), size=1))\n",
    "        sample.append(choices[chosenOne])\n",
    "    difference_in_means.append(np.mean(sample))\n",
    "    sample = []    \n",
    "difference_in_means = np.array(difference_in_means)\n",
    "difference_in_means = difference_in_means.flatten()"
   ]
  },
  {
   "cell_type": "code",
   "execution_count": 18,
   "metadata": {},
   "outputs": [
    {
     "data": {
      "image/png": "[encoded data removed]",
      "text/plain": [
       "<Figure size 576x576 with 1 Axes>"
      ]
     },
     "metadata": {
      "needs_background": "light"
     },
     "output_type": "display_data"
    }
   ],
   "source": [
    "fig_num += 1\n",
    "plt.figure(fig_num, figsize=(8,8))\n",
    "plt.yticks([])\n",
    "plt.xlabel('Difference of means (x)')\n",
    "plt.ylabel('P(x)')\n",
    "plt.title('Difference of face and building means\\n (Assume subject population is same)')\n",
    "plt.hist(difference_in_means, bins=60, density=True)\n",
    "plt.show(block=False)"
   ]
  },
  {
   "cell_type": "code",
   "execution_count": 19,
   "metadata": {},
   "outputs": [
    {
     "name": "stdout",
     "output_type": "stream",
     "text": [
      "z-value is : \n",
      "-3.5887412544409685\n",
      "\n",
      "\n",
      "Two side p-value is : \n",
      "0.00033227841905580924\n"
     ]
    }
   ],
   "source": [
    "mu_fb = np.mean(difference_in_means)\n",
    "sigma_fb = np.std(difference_in_means)\n",
    "fb_line = np.mean(building) - np.mean(face)\n",
    "\n",
    "z,p = z_and_p_values(fb_line, sigma_fb, mu_fb)\n",
    "print(\"z-value is : \")\n",
    "print(z)\n",
    "print(\"\\n\")\n",
    "print(\"Two side p-value is : \")\n",
    "print(p)"
   ]
  },
  {
   "cell_type": "code",
   "execution_count": 20,
   "metadata": {
    "scrolled": true
   },
   "outputs": [],
   "source": [
    "# Part E\n",
    "diff_of_means_fb, sigma_fb_2, mu_fb_2 = difference_of_means(face, building, 10000)"
   ]
  },
  {
   "cell_type": "code",
   "execution_count": 21,
   "metadata": {},
   "outputs": [
    {
     "data": {
      "image/png": "[encoded data removed]",
      "text/plain": [
       "<Figure size 576x576 with 1 Axes>"
      ]
     },
     "metadata": {
      "needs_background": "light"
     },
     "output_type": "display_data"
    }
   ],
   "source": [
    "fig_num += 1\n",
    "plt.figure(fig_num, figsize=(8,8))\n",
    "plt.yticks([])\n",
    "plt.xlabel('Difference in means (x)')\n",
    "plt.ylabel('P(x)')\n",
    "plt.title('Difference of face and building means\\n (Assume subject population is distint)')\n",
    "\n",
    "plt.hist(diff_of_means_fb, bins=60, density=True)\n",
    "plt.show(block=False)"
   ]
  },
  {
   "cell_type": "code",
   "execution_count": 22,
   "metadata": {},
   "outputs": [
    {
     "name": "stdout",
     "output_type": "stream",
     "text": [
      "z-value is : \n",
      "-2.651567544945334\n",
      "\n",
      "\n",
      "Two side p-value is : \n",
      "0.00801190860639811\n"
     ]
    }
   ],
   "source": [
    "mu_fb_2 = np.mean(diff_of_means_fb)\n",
    "sigma_fb_2 = np.std(diff_of_means_fb)\n",
    "fb_line_2 = np.mean(building) - np.mean(face)\n",
    "\n",
    "z,p = z_and_p_values(fb_line_2, sigma_fb_2, mu_fb_2)\n",
    "print(\"z-value is : \")\n",
    "print(z)\n",
    "print(\"\\n\")\n",
    "print(\"Two side p-value is : \")\n",
    "print(p)"
   ]
  }
 ],
 "metadata": {
  "kernelspec": {
   "display_name": "Python 3",
   "language": "python",
   "name": "python3"
  },
  "language_info": {
   "codemirror_mode": {
    "name": "ipython",
    "version": 3
   },
   "file_extension": ".py",
   "mimetype": "text/x-python",
   "name": "python",
   "nbconvert_exporter": "python",
   "pygments_lexer": "ipython3",
   "version": "3.7.4"
  }
 },
 "nbformat": 4,
 "nbformat_minor": 4
}
